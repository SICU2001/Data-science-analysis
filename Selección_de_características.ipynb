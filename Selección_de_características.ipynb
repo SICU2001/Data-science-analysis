{
  "nbformat": 4,
  "nbformat_minor": 0,
  "metadata": {
    "colab": {
      "provenance": []
    },
    "kernelspec": {
      "name": "python3",
      "display_name": "Python 3"
    },
    "language_info": {
      "name": "python"
    }
  },
  "cells": [
    {
      "cell_type": "markdown",
      "source": [
        "# Selección de características"
      ],
      "metadata": {
        "id": "GyzjQlpuOFEu"
      }
    },
    {
      "cell_type": "markdown",
      "source": [
        "Sofía Ingigerth Cañas Urbina A01173828, IDM"
      ],
      "metadata": {
        "id": "sbNLodfZOJsZ"
      }
    },
    {
      "cell_type": "markdown",
      "source": [
        "# **FeatureSelection**"
      ],
      "metadata": {
        "id": "yjgLElKZOKB7"
      }
    },
    {
      "cell_type": "markdown",
      "source": [
        "¿Para qué sirve este módulo?\n",
        "\n",
        "El módulo sklearn.feature_selection implementa algoritmos de selección de características y/o reducción de dimensiones. El objetivo de esto puede ser mejorar las puntuaciones de precisión de los estimadores o aumentar su rendimiento en conjuntos de datos de muchas dimensiones. Para esta selección de caracteríticas se hace uso de ciertos criterios para seleccionar las variables que son más útiles para predecir el objetivo de nuestro modelo, como por ejemplo una mayor varianza."
      ],
      "metadata": {
        "id": "13m7kysxOMHQ"
      }
    },
    {
      "cell_type": "markdown",
      "source": [
        "1) ¿Para qué se utiliza el método feature_selection.SelectKBest?\n",
        "\n",
        "Selecciona las características de acuerdo a las k puntuaciones más altas de acuerdo a una función determinada o por default, donde k que es el número de características a elegir que debe estar entre 0 y el número total de características, sin incluir los límites."
      ],
      "metadata": {
        "id": "3uSLNf69OPds"
      }
    },
    {
      "cell_type": "markdown",
      "source": [
        "2) ¿Para qué se utiliza el método feature_selection.RFE?\n",
        "\n",
        "Dado un estimador externo que asigna pesos a las características (por ejemplo, los coeficientes de un modelo lineal), el objetivo de la eliminación recursiva de características (RFE) es seleccionar características considerando recursivamente conjuntos de características cada vez más pequeños. Primero, el estimador se entrena en el conjunto inicial de características y la importancia de cada característica se obtiene a través de cualquier atributo específico o llamable. Luego, las características menos importantes se eliminan del conjunto actual de características. Ese procedimiento se repite recursivamente en el conjunto modificado hasta que finalmente se alcanza el número deseado de características para seleccionar."
      ],
      "metadata": {
        "id": "jG4Vk6HTOTnn"
      }
    },
    {
      "cell_type": "markdown",
      "source": [
        "* fit: Se usa el método requerido, en este caso SelectKBest o RFE y realiza el cálculo en los valores de las características de los datos de entrada X y ajusta este cálculo al objeto transformador (el modelo). Para la modificación de los datos después se debe usar el método transform(), donde aplicamos los cálculos que hemos calculado en fit() a cada punto de datos en las características X.\n",
        "\n",
        "* fit_transform: es básicamente la combinación de fit() y transform(). Este método ajusta y transforma los datos de entrada al mismo tiempo que convierte los puntos de datos, regresando la X transformada, que en el caso de estos dos métodos sería la X con las características reducidas."
      ],
      "metadata": {
        "id": "SxiCi7qm_0iU"
      }
    },
    {
      "cell_type": "markdown",
      "source": [
        "# **Tutorial**"
      ],
      "metadata": {
        "id": "7c4p-isxOd0p"
      }
    },
    {
      "cell_type": "code",
      "execution_count": null,
      "metadata": {
        "id": "kyRotV9zATBi"
      },
      "outputs": [],
      "source": [
        "import pandas as pd\n",
        "import numpy as np"
      ]
    },
    {
      "cell_type": "markdown",
      "source": [
        "# Importación de datos"
      ],
      "metadata": {
        "id": "Q2Q2uFAUH6J6"
      }
    },
    {
      "cell_type": "code",
      "source": [
        "data = pd.read_csv(\"diabetes.csv\")"
      ],
      "metadata": {
        "id": "ZCq_DSeVBFC7"
      },
      "execution_count": null,
      "outputs": []
    },
    {
      "cell_type": "code",
      "source": [
        "data.head()"
      ],
      "metadata": {
        "colab": {
          "base_uri": "https://localhost:8080/",
          "height": 206
        },
        "id": "Y2uiumR5BFwz",
        "outputId": "ae36e872-f4ff-487c-8184-dbe04ad5356b"
      },
      "execution_count": null,
      "outputs": [
        {
          "output_type": "execute_result",
          "data": {
            "text/plain": [
              "   Pregnancies  Glucose  BloodPressure  SkinThickness  Insulin   BMI  \\\n",
              "0            6      148             72             35        0  33.6   \n",
              "1            1       85             66             29        0  26.6   \n",
              "2            8      183             64              0        0  23.3   \n",
              "3            1       89             66             23       94  28.1   \n",
              "4            0      137             40             35      168  43.1   \n",
              "\n",
              "   DiabetesPedigreeFunction  Age  Outcome  \n",
              "0                     0.627   50        1  \n",
              "1                     0.351   31        0  \n",
              "2                     0.672   32        1  \n",
              "3                     0.167   21        0  \n",
              "4                     2.288   33        1  "
            ],
            "text/html": [
              "\n",
              "  <div id=\"df-12c8c5f4-ca64-4094-8829-09acd12f2d92\">\n",
              "    <div class=\"colab-df-container\">\n",
              "      <div>\n",
              "<style scoped>\n",
              "    .dataframe tbody tr th:only-of-type {\n",
              "        vertical-align: middle;\n",
              "    }\n",
              "\n",
              "    .dataframe tbody tr th {\n",
              "        vertical-align: top;\n",
              "    }\n",
              "\n",
              "    .dataframe thead th {\n",
              "        text-align: right;\n",
              "    }\n",
              "</style>\n",
              "<table border=\"1\" class=\"dataframe\">\n",
              "  <thead>\n",
              "    <tr style=\"text-align: right;\">\n",
              "      <th></th>\n",
              "      <th>Pregnancies</th>\n",
              "      <th>Glucose</th>\n",
              "      <th>BloodPressure</th>\n",
              "      <th>SkinThickness</th>\n",
              "      <th>Insulin</th>\n",
              "      <th>BMI</th>\n",
              "      <th>DiabetesPedigreeFunction</th>\n",
              "      <th>Age</th>\n",
              "      <th>Outcome</th>\n",
              "    </tr>\n",
              "  </thead>\n",
              "  <tbody>\n",
              "    <tr>\n",
              "      <th>0</th>\n",
              "      <td>6</td>\n",
              "      <td>148</td>\n",
              "      <td>72</td>\n",
              "      <td>35</td>\n",
              "      <td>0</td>\n",
              "      <td>33.6</td>\n",
              "      <td>0.627</td>\n",
              "      <td>50</td>\n",
              "      <td>1</td>\n",
              "    </tr>\n",
              "    <tr>\n",
              "      <th>1</th>\n",
              "      <td>1</td>\n",
              "      <td>85</td>\n",
              "      <td>66</td>\n",
              "      <td>29</td>\n",
              "      <td>0</td>\n",
              "      <td>26.6</td>\n",
              "      <td>0.351</td>\n",
              "      <td>31</td>\n",
              "      <td>0</td>\n",
              "    </tr>\n",
              "    <tr>\n",
              "      <th>2</th>\n",
              "      <td>8</td>\n",
              "      <td>183</td>\n",
              "      <td>64</td>\n",
              "      <td>0</td>\n",
              "      <td>0</td>\n",
              "      <td>23.3</td>\n",
              "      <td>0.672</td>\n",
              "      <td>32</td>\n",
              "      <td>1</td>\n",
              "    </tr>\n",
              "    <tr>\n",
              "      <th>3</th>\n",
              "      <td>1</td>\n",
              "      <td>89</td>\n",
              "      <td>66</td>\n",
              "      <td>23</td>\n",
              "      <td>94</td>\n",
              "      <td>28.1</td>\n",
              "      <td>0.167</td>\n",
              "      <td>21</td>\n",
              "      <td>0</td>\n",
              "    </tr>\n",
              "    <tr>\n",
              "      <th>4</th>\n",
              "      <td>0</td>\n",
              "      <td>137</td>\n",
              "      <td>40</td>\n",
              "      <td>35</td>\n",
              "      <td>168</td>\n",
              "      <td>43.1</td>\n",
              "      <td>2.288</td>\n",
              "      <td>33</td>\n",
              "      <td>1</td>\n",
              "    </tr>\n",
              "  </tbody>\n",
              "</table>\n",
              "</div>\n",
              "      <button class=\"colab-df-convert\" onclick=\"convertToInteractive('df-12c8c5f4-ca64-4094-8829-09acd12f2d92')\"\n",
              "              title=\"Convert this dataframe to an interactive table.\"\n",
              "              style=\"display:none;\">\n",
              "        \n",
              "  <svg xmlns=\"http://www.w3.org/2000/svg\" height=\"24px\"viewBox=\"0 0 24 24\"\n",
              "       width=\"24px\">\n",
              "    <path d=\"M0 0h24v24H0V0z\" fill=\"none\"/>\n",
              "    <path d=\"M18.56 5.44l.94 2.06.94-2.06 2.06-.94-2.06-.94-.94-2.06-.94 2.06-2.06.94zm-11 1L8.5 8.5l.94-2.06 2.06-.94-2.06-.94L8.5 2.5l-.94 2.06-2.06.94zm10 10l.94 2.06.94-2.06 2.06-.94-2.06-.94-.94-2.06-.94 2.06-2.06.94z\"/><path d=\"M17.41 7.96l-1.37-1.37c-.4-.4-.92-.59-1.43-.59-.52 0-1.04.2-1.43.59L10.3 9.45l-7.72 7.72c-.78.78-.78 2.05 0 2.83L4 21.41c.39.39.9.59 1.41.59.51 0 1.02-.2 1.41-.59l7.78-7.78 2.81-2.81c.8-.78.8-2.07 0-2.86zM5.41 20L4 18.59l7.72-7.72 1.47 1.35L5.41 20z\"/>\n",
              "  </svg>\n",
              "      </button>\n",
              "      \n",
              "  <style>\n",
              "    .colab-df-container {\n",
              "      display:flex;\n",
              "      flex-wrap:wrap;\n",
              "      gap: 12px;\n",
              "    }\n",
              "\n",
              "    .colab-df-convert {\n",
              "      background-color: #E8F0FE;\n",
              "      border: none;\n",
              "      border-radius: 50%;\n",
              "      cursor: pointer;\n",
              "      display: none;\n",
              "      fill: #1967D2;\n",
              "      height: 32px;\n",
              "      padding: 0 0 0 0;\n",
              "      width: 32px;\n",
              "    }\n",
              "\n",
              "    .colab-df-convert:hover {\n",
              "      background-color: #E2EBFA;\n",
              "      box-shadow: 0px 1px 2px rgba(60, 64, 67, 0.3), 0px 1px 3px 1px rgba(60, 64, 67, 0.15);\n",
              "      fill: #174EA6;\n",
              "    }\n",
              "\n",
              "    [theme=dark] .colab-df-convert {\n",
              "      background-color: #3B4455;\n",
              "      fill: #D2E3FC;\n",
              "    }\n",
              "\n",
              "    [theme=dark] .colab-df-convert:hover {\n",
              "      background-color: #434B5C;\n",
              "      box-shadow: 0px 1px 3px 1px rgba(0, 0, 0, 0.15);\n",
              "      filter: drop-shadow(0px 1px 2px rgba(0, 0, 0, 0.3));\n",
              "      fill: #FFFFFF;\n",
              "    }\n",
              "  </style>\n",
              "\n",
              "      <script>\n",
              "        const buttonEl =\n",
              "          document.querySelector('#df-12c8c5f4-ca64-4094-8829-09acd12f2d92 button.colab-df-convert');\n",
              "        buttonEl.style.display =\n",
              "          google.colab.kernel.accessAllowed ? 'block' : 'none';\n",
              "\n",
              "        async function convertToInteractive(key) {\n",
              "          const element = document.querySelector('#df-12c8c5f4-ca64-4094-8829-09acd12f2d92');\n",
              "          const dataTable =\n",
              "            await google.colab.kernel.invokeFunction('convertToInteractive',\n",
              "                                                     [key], {});\n",
              "          if (!dataTable) return;\n",
              "\n",
              "          const docLinkHtml = 'Like what you see? Visit the ' +\n",
              "            '<a target=\"_blank\" href=https://colab.research.google.com/notebooks/data_table.ipynb>data table notebook</a>'\n",
              "            + ' to learn more about interactive tables.';\n",
              "          element.innerHTML = '';\n",
              "          dataTable['output_type'] = 'display_data';\n",
              "          await google.colab.output.renderOutput(dataTable, element);\n",
              "          const docLink = document.createElement('div');\n",
              "          docLink.innerHTML = docLinkHtml;\n",
              "          element.appendChild(docLink);\n",
              "        }\n",
              "      </script>\n",
              "    </div>\n",
              "  </div>\n",
              "  "
            ]
          },
          "metadata": {},
          "execution_count": 3
        }
      ]
    },
    {
      "cell_type": "code",
      "source": [
        "# load data\n",
        "url = \"https://raw.githubusercontent.com/jbrownlee/Datasets/master/pima-indians-diabetes.data.csv\"\n",
        "names = ['preg', 'plas', 'pres', 'skin', 'test', 'mass', 'pedi', 'age', 'class']\n",
        "dataframe = pd.read_csv(url, names=names)"
      ],
      "metadata": {
        "id": "wqIU4CTgBU2o"
      },
      "execution_count": null,
      "outputs": []
    },
    {
      "cell_type": "markdown",
      "source": [
        "#Separar atributos y etiquetas"
      ],
      "metadata": {
        "id": "78vsPXqlIBUa"
      }
    },
    {
      "cell_type": "code",
      "source": [
        "array = dataframe.values\n",
        "X = array[:,0:8]\n",
        "Y = array[:,8]"
      ],
      "metadata": {
        "id": "dPF1zm76BgD_"
      },
      "execution_count": null,
      "outputs": []
    },
    {
      "cell_type": "markdown",
      "source": [
        "# Selección de características con KBest (chiCuadrada)"
      ],
      "metadata": {
        "id": "gSN_ly0UIbc0"
      }
    },
    {
      "cell_type": "code",
      "source": [
        "# Import the necessary libraries first\n",
        "from sklearn.feature_selection import SelectKBest\n",
        "from sklearn.feature_selection import chi2"
      ],
      "metadata": {
        "id": "JqXmdqhVBrGY"
      },
      "execution_count": null,
      "outputs": []
    },
    {
      "cell_type": "code",
      "source": [
        "# Feature extraction\n",
        "test = SelectKBest(score_func=chi2, k=4)\n",
        "fit = test.fit(X, Y)\n",
        "\n",
        "# Summarize scores\n",
        "np.set_printoptions(precision=3)\n",
        "print(fit.scores_)\n",
        "\n",
        "features = fit.transform(X)\n",
        "# Summarize selected features\n",
        "print(features[0:5,:])"
      ],
      "metadata": {
        "colab": {
          "base_uri": "https://localhost:8080/"
        },
        "id": "YNGgSeCqBsYf",
        "outputId": "24e3d1dc-643a-420f-b243-7f55a1b2d95a"
      },
      "execution_count": null,
      "outputs": [
        {
          "output_type": "stream",
          "name": "stdout",
          "text": [
            "[ 111.52  1411.887   17.605   53.108 2175.565  127.669    5.393  181.304]\n",
            "[[148.    0.   33.6  50. ]\n",
            " [ 85.    0.   26.6  31. ]\n",
            " [183.    0.   23.3  32. ]\n",
            " [ 89.   94.   28.1  21. ]\n",
            " [137.  168.   43.1  33. ]]\n"
          ]
        }
      ]
    },
    {
      "cell_type": "markdown",
      "source": [
        "# Selección de características con RFE (Regresión Logística)"
      ],
      "metadata": {
        "id": "HR_r6w8zJCPE"
      }
    },
    {
      "cell_type": "code",
      "source": [
        "# Import your necessary dependencies\n",
        "from sklearn.feature_selection import RFE\n",
        "from sklearn.linear_model import LogisticRegression"
      ],
      "metadata": {
        "id": "RHEZscgjB1ON"
      },
      "execution_count": null,
      "outputs": []
    },
    {
      "cell_type": "code",
      "source": [
        "# Feature extraction\n",
        "model = LogisticRegression()\n",
        "rfe = RFE(model, n_features_to_select=3)\n",
        "fit = rfe.fit(X, Y)\n",
        "print(\"Num Features: %s\" % (fit.n_features_))\n",
        "print(\"Selected Features: %s\" % (fit.support_))\n",
        "print(\"Feature Ranking: %s\" % (fit.ranking_))"
      ],
      "metadata": {
        "colab": {
          "base_uri": "https://localhost:8080/"
        },
        "id": "o1zoR__bB2bb",
        "outputId": "cd43a421-9387-4f77-f5dc-81fd28e20b8d"
      },
      "execution_count": null,
      "outputs": [
        {
          "output_type": "stream",
          "name": "stdout",
          "text": [
            "Num Features: 3\n",
            "Selected Features: [ True False False False False  True  True False]\n",
            "Feature Ranking: [1 2 4 5 6 1 1 3]\n"
          ]
        },
        {
          "output_type": "stream",
          "name": "stderr",
          "text": [
            "/usr/local/lib/python3.7/dist-packages/sklearn/linear_model/_logistic.py:818: ConvergenceWarning: lbfgs failed to converge (status=1):\n",
            "STOP: TOTAL NO. of ITERATIONS REACHED LIMIT.\n",
            "\n",
            "Increase the number of iterations (max_iter) or scale the data as shown in:\n",
            "    https://scikit-learn.org/stable/modules/preprocessing.html\n",
            "Please also refer to the documentation for alternative solver options:\n",
            "    https://scikit-learn.org/stable/modules/linear_model.html#logistic-regression\n",
            "  extra_warning_msg=_LOGISTIC_SOLVER_CONVERGENCE_MSG,\n"
          ]
        }
      ]
    },
    {
      "cell_type": "markdown",
      "source": [
        "# Modelo con Ridge regression"
      ],
      "metadata": {
        "id": "N8d2Six5JUB1"
      }
    },
    {
      "cell_type": "code",
      "source": [
        "# First things first\n",
        "from sklearn.linear_model import Ridge"
      ],
      "metadata": {
        "id": "BEx2OyF6DU5V"
      },
      "execution_count": null,
      "outputs": []
    },
    {
      "cell_type": "code",
      "source": [
        "ridge = Ridge(alpha=1.0)\n",
        "ridge.fit(X,Y)"
      ],
      "metadata": {
        "colab": {
          "base_uri": "https://localhost:8080/"
        },
        "id": "jju6qcKbDZpG",
        "outputId": "95535b4a-a9a1-41b2-fc2a-6101bc0304bd"
      },
      "execution_count": null,
      "outputs": [
        {
          "output_type": "execute_result",
          "data": {
            "text/plain": [
              "Ridge()"
            ]
          },
          "metadata": {},
          "execution_count": 11
        }
      ]
    },
    {
      "cell_type": "code",
      "source": [
        "Ridge(alpha=1.0, copy_X=True, fit_intercept=True, max_iter=None,\n",
        "   normalize=False, random_state=None, solver='auto', tol=0.001)"
      ],
      "metadata": {
        "colab": {
          "base_uri": "https://localhost:8080/"
        },
        "id": "_NxMzIxeDebD",
        "outputId": "59105776-4636-4551-bfd6-c478cfcce200"
      },
      "execution_count": null,
      "outputs": [
        {
          "output_type": "execute_result",
          "data": {
            "text/plain": [
              "Ridge(normalize=False)"
            ]
          },
          "metadata": {},
          "execution_count": 12
        }
      ]
    },
    {
      "cell_type": "code",
      "source": [
        "# A helper method for pretty-printing the coefficients\n",
        "def pretty_print_coefs(coefs, names = None, sort = False):\n",
        "    if names == None:\n",
        "        names = [\"X%s\" % x for x in range(len(coefs))]\n",
        "    lst = zip(coefs, names)\n",
        "    if sort:\n",
        "        lst = sorted(lst,  key = lambda x:-np.abs(x[0]))\n",
        "    return \" + \".join(\"%s * %s\" % (round(coef, 3), name)\n",
        "                                   for coef, name in lst)"
      ],
      "metadata": {
        "id": "8EJkZM2CDizG"
      },
      "execution_count": null,
      "outputs": []
    },
    {
      "cell_type": "code",
      "source": [
        "print (\"Ridge model:\", pretty_print_coefs(ridge.coef_))"
      ],
      "metadata": {
        "colab": {
          "base_uri": "https://localhost:8080/"
        },
        "id": "49oqmrGiDoXM",
        "outputId": "eacc9710-ea97-4836-f0da-413ad74113d2"
      },
      "execution_count": null,
      "outputs": [
        {
          "output_type": "stream",
          "name": "stdout",
          "text": [
            "Ridge model: 0.021 * X0 + 0.006 * X1 + -0.002 * X2 + 0.0 * X3 + -0.0 * X4 + 0.013 * X5 + 0.145 * X6 + 0.003 * X7\n"
          ]
        }
      ]
    },
    {
      "cell_type": "markdown",
      "source": [
        "**1) Descripción de los métodos utilizados y a que tipo de métodos pertenecen. Cuántas y cuáles características se seleccionaron al aplicar cada método.**\n",
        "\n",
        "En este tutorial se utilizaron los métodos de selección de características de KBest y RFE. KBest como método filtro seleccionó las características de acuerdo a las 4 puntuaciones más altas, en este caso de la función chi cuadrada y resultaron las características de glucosa, insulina, BMI y edad. Después se aplicó el método wrapper de RFE con regresión logística, seleccionando 3 características: embarazos, función de diabetes y BMI."
      ],
      "metadata": {
        "id": "RKZtUzNBP2lE"
      }
    },
    {
      "cell_type": "markdown",
      "source": [
        "**2) Breve resumen del proceso realizado en este tutorial sobre Selección de Características.**\n",
        "\n",
        "El proceso comenzó importando los datos del archivo .csv por medio de un url de git hub. Ya teniendo el dataframe se separaron los atributos (características) de las etiquetas y se seleccionaron las características por medio de los métodos descritos anteriormente. El procedimiento general fue la creación del modelo de selección de características con los parámetros deseados y luego el uso de la función fit() a las características. Por último, se aplica un modelo de regresión Ridge entrenado con los datos que se imprime en forma de una ecuación en las variables."
      ],
      "metadata": {
        "id": "fqH0d-wa-P0b"
      }
    }
  ]
}