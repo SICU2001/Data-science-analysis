{
  "nbformat": 4,
  "nbformat_minor": 0,
  "metadata": {
    "colab": {
      "provenance": []
    },
    "kernelspec": {
      "name": "python3",
      "display_name": "Python 3"
    },
    "language_info": {
      "name": "python"
    }
  },
  "cells": [
    {
      "cell_type": "markdown",
      "source": [
        "# **Evaluación de un modelo de clasificación**"
      ],
      "metadata": {
        "id": "wxD5ZuS9fhpY"
      }
    },
    {
      "cell_type": "markdown",
      "source": [
        "Sofía Ingigerth Cañas Urbina A01173828"
      ],
      "metadata": {
        "id": "g44Rri8UfvaP"
      }
    },
    {
      "cell_type": "markdown",
      "source": [
        "# Actividad de la semana pasada"
      ],
      "metadata": {
        "id": "dQX13u-if0jA"
      }
    },
    {
      "cell_type": "markdown",
      "source": [
        "**Librerías**"
      ],
      "metadata": {
        "id": "5nHrm9kwk0RY"
      }
    },
    {
      "cell_type": "markdown",
      "source": [
        "Importamos la librería de pandas para poder manipular y analizar el data frame con la información. De la de sklearn obtenemos paquetes de algoritmos de entrenamiento y evaluación de estos algoritmos"
      ],
      "metadata": {
        "id": "4mCZD72lk6De"
      }
    },
    {
      "cell_type": "code",
      "source": [
        "import pandas as pd\n",
        "\n",
        "from sklearn.model_selection import train_test_split\n",
        "from sklearn.svm import SVC\n",
        "from sklearn.pipeline import make_pipeline\n",
        "from sklearn.preprocessing import StandardScaler\n",
        "\n",
        "from sklearn.metrics import classification_report, confusion_matrix\n",
        "\n",
        "from sklearn import tree \n",
        "from sklearn import neighbors \n",
        "from sklearn.neighbors import KNeighborsClassifier\n",
        "\n",
        "# Librerías para la nueva actividad\n",
        "from sklearn import metrics\n",
        "import matplotlib.pyplot as plt\n",
        "from sklearn.metrics import roc_curve\n",
        "from sklearn.metrics import roc_auc_score\n",
        "from sklearn import preprocessing\n",
        "from sklearn.metrics import confusion_matrix, ConfusionMatrixDisplay, recall_score, roc_auc_score, roc_curve"
      ],
      "metadata": {
        "id": "QhgOI5dJf17J"
      },
      "execution_count": 3,
      "outputs": []
    },
    {
      "cell_type": "markdown",
      "source": [
        "**Importación y exploración de datos**"
      ],
      "metadata": {
        "id": "3NVr90aok_f4"
      }
    },
    {
      "cell_type": "markdown",
      "source": [
        "Importamos los datos y los guardamos en un data frame, imprimimos sus dimensiones y las primeras observaciones para familiarizarnos"
      ],
      "metadata": {
        "id": "GdeJxzjc33qn"
      }
    },
    {
      "cell_type": "code",
      "execution_count": 4,
      "metadata": {
        "colab": {
          "base_uri": "https://localhost:8080/",
          "height": 349
        },
        "id": "Ua5Wb2RUSeBy",
        "outputId": "df9e79ca-73c4-43ca-b195-5ee5b2aa841b"
      },
      "outputs": [
        {
          "output_type": "stream",
          "name": "stdout",
          "text": [
            "(8124, 23)\n"
          ]
        },
        {
          "output_type": "execute_result",
          "data": {
            "text/plain": [
              "  class cap-shape cap-surface cap-color bruises odor gill-attachment  \\\n",
              "0     p         x           s         n       t    p               f   \n",
              "1     e         x           s         y       t    a               f   \n",
              "2     e         b           s         w       t    l               f   \n",
              "3     p         x           y         w       t    p               f   \n",
              "4     e         x           s         g       f    n               f   \n",
              "\n",
              "  gill-spacing gill-size gill-color  ... stalk-surface-below-ring  \\\n",
              "0            c         n          k  ...                        s   \n",
              "1            c         b          k  ...                        s   \n",
              "2            c         b          n  ...                        s   \n",
              "3            c         n          n  ...                        s   \n",
              "4            w         b          k  ...                        s   \n",
              "\n",
              "  stalk-color-above-ring stalk-color-below-ring veil-type veil-color  \\\n",
              "0                      w                      w         p          w   \n",
              "1                      w                      w         p          w   \n",
              "2                      w                      w         p          w   \n",
              "3                      w                      w         p          w   \n",
              "4                      w                      w         p          w   \n",
              "\n",
              "  ring-number ring-type spore-print-color population habitat  \n",
              "0           o         p                 k          s       u  \n",
              "1           o         p                 n          n       g  \n",
              "2           o         p                 n          n       m  \n",
              "3           o         p                 k          s       u  \n",
              "4           o         e                 n          a       g  \n",
              "\n",
              "[5 rows x 23 columns]"
            ],
            "text/html": [
              "\n",
              "  <div id=\"df-91b52b5e-fddb-4ec8-9718-612f67909cd4\">\n",
              "    <div class=\"colab-df-container\">\n",
              "      <div>\n",
              "<style scoped>\n",
              "    .dataframe tbody tr th:only-of-type {\n",
              "        vertical-align: middle;\n",
              "    }\n",
              "\n",
              "    .dataframe tbody tr th {\n",
              "        vertical-align: top;\n",
              "    }\n",
              "\n",
              "    .dataframe thead th {\n",
              "        text-align: right;\n",
              "    }\n",
              "</style>\n",
              "<table border=\"1\" class=\"dataframe\">\n",
              "  <thead>\n",
              "    <tr style=\"text-align: right;\">\n",
              "      <th></th>\n",
              "      <th>class</th>\n",
              "      <th>cap-shape</th>\n",
              "      <th>cap-surface</th>\n",
              "      <th>cap-color</th>\n",
              "      <th>bruises</th>\n",
              "      <th>odor</th>\n",
              "      <th>gill-attachment</th>\n",
              "      <th>gill-spacing</th>\n",
              "      <th>gill-size</th>\n",
              "      <th>gill-color</th>\n",
              "      <th>...</th>\n",
              "      <th>stalk-surface-below-ring</th>\n",
              "      <th>stalk-color-above-ring</th>\n",
              "      <th>stalk-color-below-ring</th>\n",
              "      <th>veil-type</th>\n",
              "      <th>veil-color</th>\n",
              "      <th>ring-number</th>\n",
              "      <th>ring-type</th>\n",
              "      <th>spore-print-color</th>\n",
              "      <th>population</th>\n",
              "      <th>habitat</th>\n",
              "    </tr>\n",
              "  </thead>\n",
              "  <tbody>\n",
              "    <tr>\n",
              "      <th>0</th>\n",
              "      <td>p</td>\n",
              "      <td>x</td>\n",
              "      <td>s</td>\n",
              "      <td>n</td>\n",
              "      <td>t</td>\n",
              "      <td>p</td>\n",
              "      <td>f</td>\n",
              "      <td>c</td>\n",
              "      <td>n</td>\n",
              "      <td>k</td>\n",
              "      <td>...</td>\n",
              "      <td>s</td>\n",
              "      <td>w</td>\n",
              "      <td>w</td>\n",
              "      <td>p</td>\n",
              "      <td>w</td>\n",
              "      <td>o</td>\n",
              "      <td>p</td>\n",
              "      <td>k</td>\n",
              "      <td>s</td>\n",
              "      <td>u</td>\n",
              "    </tr>\n",
              "    <tr>\n",
              "      <th>1</th>\n",
              "      <td>e</td>\n",
              "      <td>x</td>\n",
              "      <td>s</td>\n",
              "      <td>y</td>\n",
              "      <td>t</td>\n",
              "      <td>a</td>\n",
              "      <td>f</td>\n",
              "      <td>c</td>\n",
              "      <td>b</td>\n",
              "      <td>k</td>\n",
              "      <td>...</td>\n",
              "      <td>s</td>\n",
              "      <td>w</td>\n",
              "      <td>w</td>\n",
              "      <td>p</td>\n",
              "      <td>w</td>\n",
              "      <td>o</td>\n",
              "      <td>p</td>\n",
              "      <td>n</td>\n",
              "      <td>n</td>\n",
              "      <td>g</td>\n",
              "    </tr>\n",
              "    <tr>\n",
              "      <th>2</th>\n",
              "      <td>e</td>\n",
              "      <td>b</td>\n",
              "      <td>s</td>\n",
              "      <td>w</td>\n",
              "      <td>t</td>\n",
              "      <td>l</td>\n",
              "      <td>f</td>\n",
              "      <td>c</td>\n",
              "      <td>b</td>\n",
              "      <td>n</td>\n",
              "      <td>...</td>\n",
              "      <td>s</td>\n",
              "      <td>w</td>\n",
              "      <td>w</td>\n",
              "      <td>p</td>\n",
              "      <td>w</td>\n",
              "      <td>o</td>\n",
              "      <td>p</td>\n",
              "      <td>n</td>\n",
              "      <td>n</td>\n",
              "      <td>m</td>\n",
              "    </tr>\n",
              "    <tr>\n",
              "      <th>3</th>\n",
              "      <td>p</td>\n",
              "      <td>x</td>\n",
              "      <td>y</td>\n",
              "      <td>w</td>\n",
              "      <td>t</td>\n",
              "      <td>p</td>\n",
              "      <td>f</td>\n",
              "      <td>c</td>\n",
              "      <td>n</td>\n",
              "      <td>n</td>\n",
              "      <td>...</td>\n",
              "      <td>s</td>\n",
              "      <td>w</td>\n",
              "      <td>w</td>\n",
              "      <td>p</td>\n",
              "      <td>w</td>\n",
              "      <td>o</td>\n",
              "      <td>p</td>\n",
              "      <td>k</td>\n",
              "      <td>s</td>\n",
              "      <td>u</td>\n",
              "    </tr>\n",
              "    <tr>\n",
              "      <th>4</th>\n",
              "      <td>e</td>\n",
              "      <td>x</td>\n",
              "      <td>s</td>\n",
              "      <td>g</td>\n",
              "      <td>f</td>\n",
              "      <td>n</td>\n",
              "      <td>f</td>\n",
              "      <td>w</td>\n",
              "      <td>b</td>\n",
              "      <td>k</td>\n",
              "      <td>...</td>\n",
              "      <td>s</td>\n",
              "      <td>w</td>\n",
              "      <td>w</td>\n",
              "      <td>p</td>\n",
              "      <td>w</td>\n",
              "      <td>o</td>\n",
              "      <td>e</td>\n",
              "      <td>n</td>\n",
              "      <td>a</td>\n",
              "      <td>g</td>\n",
              "    </tr>\n",
              "  </tbody>\n",
              "</table>\n",
              "<p>5 rows × 23 columns</p>\n",
              "</div>\n",
              "      <button class=\"colab-df-convert\" onclick=\"convertToInteractive('df-91b52b5e-fddb-4ec8-9718-612f67909cd4')\"\n",
              "              title=\"Convert this dataframe to an interactive table.\"\n",
              "              style=\"display:none;\">\n",
              "        \n",
              "  <svg xmlns=\"http://www.w3.org/2000/svg\" height=\"24px\"viewBox=\"0 0 24 24\"\n",
              "       width=\"24px\">\n",
              "    <path d=\"M0 0h24v24H0V0z\" fill=\"none\"/>\n",
              "    <path d=\"M18.56 5.44l.94 2.06.94-2.06 2.06-.94-2.06-.94-.94-2.06-.94 2.06-2.06.94zm-11 1L8.5 8.5l.94-2.06 2.06-.94-2.06-.94L8.5 2.5l-.94 2.06-2.06.94zm10 10l.94 2.06.94-2.06 2.06-.94-2.06-.94-.94-2.06-.94 2.06-2.06.94z\"/><path d=\"M17.41 7.96l-1.37-1.37c-.4-.4-.92-.59-1.43-.59-.52 0-1.04.2-1.43.59L10.3 9.45l-7.72 7.72c-.78.78-.78 2.05 0 2.83L4 21.41c.39.39.9.59 1.41.59.51 0 1.02-.2 1.41-.59l7.78-7.78 2.81-2.81c.8-.78.8-2.07 0-2.86zM5.41 20L4 18.59l7.72-7.72 1.47 1.35L5.41 20z\"/>\n",
              "  </svg>\n",
              "      </button>\n",
              "      \n",
              "  <style>\n",
              "    .colab-df-container {\n",
              "      display:flex;\n",
              "      flex-wrap:wrap;\n",
              "      gap: 12px;\n",
              "    }\n",
              "\n",
              "    .colab-df-convert {\n",
              "      background-color: #E8F0FE;\n",
              "      border: none;\n",
              "      border-radius: 50%;\n",
              "      cursor: pointer;\n",
              "      display: none;\n",
              "      fill: #1967D2;\n",
              "      height: 32px;\n",
              "      padding: 0 0 0 0;\n",
              "      width: 32px;\n",
              "    }\n",
              "\n",
              "    .colab-df-convert:hover {\n",
              "      background-color: #E2EBFA;\n",
              "      box-shadow: 0px 1px 2px rgba(60, 64, 67, 0.3), 0px 1px 3px 1px rgba(60, 64, 67, 0.15);\n",
              "      fill: #174EA6;\n",
              "    }\n",
              "\n",
              "    [theme=dark] .colab-df-convert {\n",
              "      background-color: #3B4455;\n",
              "      fill: #D2E3FC;\n",
              "    }\n",
              "\n",
              "    [theme=dark] .colab-df-convert:hover {\n",
              "      background-color: #434B5C;\n",
              "      box-shadow: 0px 1px 3px 1px rgba(0, 0, 0, 0.15);\n",
              "      filter: drop-shadow(0px 1px 2px rgba(0, 0, 0, 0.3));\n",
              "      fill: #FFFFFF;\n",
              "    }\n",
              "  </style>\n",
              "\n",
              "      <script>\n",
              "        const buttonEl =\n",
              "          document.querySelector('#df-91b52b5e-fddb-4ec8-9718-612f67909cd4 button.colab-df-convert');\n",
              "        buttonEl.style.display =\n",
              "          google.colab.kernel.accessAllowed ? 'block' : 'none';\n",
              "\n",
              "        async function convertToInteractive(key) {\n",
              "          const element = document.querySelector('#df-91b52b5e-fddb-4ec8-9718-612f67909cd4');\n",
              "          const dataTable =\n",
              "            await google.colab.kernel.invokeFunction('convertToInteractive',\n",
              "                                                     [key], {});\n",
              "          if (!dataTable) return;\n",
              "\n",
              "          const docLinkHtml = 'Like what you see? Visit the ' +\n",
              "            '<a target=\"_blank\" href=https://colab.research.google.com/notebooks/data_table.ipynb>data table notebook</a>'\n",
              "            + ' to learn more about interactive tables.';\n",
              "          element.innerHTML = '';\n",
              "          dataTable['output_type'] = 'display_data';\n",
              "          await google.colab.output.renderOutput(dataTable, element);\n",
              "          const docLink = document.createElement('div');\n",
              "          docLink.innerHTML = docLinkHtml;\n",
              "          element.appendChild(docLink);\n",
              "        }\n",
              "      </script>\n",
              "    </div>\n",
              "  </div>\n",
              "  "
            ]
          },
          "metadata": {},
          "execution_count": 4
        }
      ],
      "source": [
        "mushroom = pd.read_csv('mushrooms.csv')\n",
        "\n",
        "print(mushroom.shape)\n",
        "mushroom.head()"
      ]
    },
    {
      "cell_type": "markdown",
      "source": [
        "Vemos que las variables son mayoritariamente de tipo categórico, no son numéricas"
      ],
      "metadata": {
        "id": "D12_cIzB5BgW"
      }
    },
    {
      "cell_type": "code",
      "source": [
        "mushroom.dtypes"
      ],
      "metadata": {
        "colab": {
          "base_uri": "https://localhost:8080/"
        },
        "id": "vJiZniHi44nQ",
        "outputId": "d4fed874-5195-4ca1-d7b0-312ba6eb56f4"
      },
      "execution_count": 5,
      "outputs": [
        {
          "output_type": "execute_result",
          "data": {
            "text/plain": [
              "class                       object\n",
              "cap-shape                   object\n",
              "cap-surface                 object\n",
              "cap-color                   object\n",
              "bruises                     object\n",
              "odor                        object\n",
              "gill-attachment             object\n",
              "gill-spacing                object\n",
              "gill-size                   object\n",
              "gill-color                  object\n",
              "stalk-shape                 object\n",
              "stalk-root                  object\n",
              "stalk-surface-above-ring    object\n",
              "stalk-surface-below-ring    object\n",
              "stalk-color-above-ring      object\n",
              "stalk-color-below-ring      object\n",
              "veil-type                   object\n",
              "veil-color                  object\n",
              "ring-number                 object\n",
              "ring-type                   object\n",
              "spore-print-color           object\n",
              "population                  object\n",
              "habitat                     object\n",
              "dtype: object"
            ]
          },
          "metadata": {},
          "execution_count": 5
        }
      ]
    },
    {
      "cell_type": "markdown",
      "source": [
        "**Preprocesamiento de los datos**"
      ],
      "metadata": {
        "id": "uT0qtokIlRJU"
      }
    },
    {
      "cell_type": "markdown",
      "source": [
        "Dividimos en atributos o características y etiquetas o variable a predecir"
      ],
      "metadata": {
        "id": "JOHWaWVf4Zm5"
      }
    },
    {
      "cell_type": "code",
      "source": [
        "X = mushroom.copy()\n",
        "X = mushroom.drop('class', axis = 1)\n",
        "Y = mushroom['class']"
      ],
      "metadata": {
        "id": "veS8Ny45kjYI"
      },
      "execution_count": 6,
      "outputs": []
    },
    {
      "cell_type": "markdown",
      "source": [
        "Las características son de tipo categórico, entonces una alternativa es usar \"dummy variables\" para poder usar el algoritmo de clasificación. "
      ],
      "metadata": {
        "id": "0lx4drZ64okb"
      }
    },
    {
      "cell_type": "code",
      "source": [
        "X = pd.get_dummies(X) \n",
        "Y = pd.get_dummies(Y)\n",
        "del Y['p']\n",
        "Y = Y.e"
      ],
      "metadata": {
        "id": "P79uBOTypexe"
      },
      "execution_count": 7,
      "outputs": []
    },
    {
      "cell_type": "markdown",
      "source": [
        "Dividimos los datos en training y testing set, en proporción 80:20"
      ],
      "metadata": {
        "id": "mmDYU9zh6pFh"
      }
    },
    {
      "cell_type": "code",
      "source": [
        "X_train, X_test, Y_train, Y_test = train_test_split(X, Y, test_size = 0.20)"
      ],
      "metadata": {
        "id": "fsT2PNVWrQD5"
      },
      "execution_count": 8,
      "outputs": []
    },
    {
      "cell_type": "markdown",
      "source": [
        "**Support Vector Machine**"
      ],
      "metadata": {
        "id": "hGqSMolRlgFt"
      }
    },
    {
      "cell_type": "markdown",
      "source": [
        "*Entrenamiento*\n",
        "\n",
        "Se probaron diferentes kernels para el SVM (poly, rbf, sigmoid) y en general mostraban muy buenos resultados con una alta precisión. También se experimento estandarizando y no estandarizando, al final sólo se muestra una alternativa, considerando alguna de las mejores"
      ],
      "metadata": {
        "id": "mMnAabNGsHBB"
      }
    },
    {
      "cell_type": "code",
      "source": [
        "classifierSVC = make_pipeline(StandardScaler(), SVC(kernel = 'rbf', probability=True)).fit(X_train, Y_train)"
      ],
      "metadata": {
        "id": "KzIFAjNNsJ-t"
      },
      "execution_count": 9,
      "outputs": []
    },
    {
      "cell_type": "markdown",
      "source": [
        "*Evaluación del algoritmo*"
      ],
      "metadata": {
        "id": "w3Pn185rsKVP"
      }
    },
    {
      "cell_type": "code",
      "source": [
        "Y_predS = classifierSVC.predict(X_test)\n",
        "\n",
        "print(confusion_matrix(Y_test, Y_predS))\n",
        "print(classification_report(Y_test, Y_predS))"
      ],
      "metadata": {
        "colab": {
          "base_uri": "https://localhost:8080/"
        },
        "id": "Q3O1A-3SvGjT",
        "outputId": "51eb5243-daf3-4bd8-d54b-6511e1d1c138"
      },
      "execution_count": 10,
      "outputs": [
        {
          "output_type": "stream",
          "name": "stdout",
          "text": [
            "[[766   1]\n",
            " [  0 858]]\n",
            "              precision    recall  f1-score   support\n",
            "\n",
            "           0       1.00      1.00      1.00       767\n",
            "           1       1.00      1.00      1.00       858\n",
            "\n",
            "    accuracy                           1.00      1625\n",
            "   macro avg       1.00      1.00      1.00      1625\n",
            "weighted avg       1.00      1.00      1.00      1625\n",
            "\n"
          ]
        }
      ]
    },
    {
      "cell_type": "markdown",
      "source": [
        "**Árbol de decisión**"
      ],
      "metadata": {
        "id": "Nthpkw7NlzQK"
      }
    },
    {
      "cell_type": "markdown",
      "source": [
        "*Entrenamiento*"
      ],
      "metadata": {
        "id": "DZ4RHS2-zBmo"
      }
    },
    {
      "cell_type": "code",
      "source": [
        "classifierTree = tree.DecisionTreeClassifier() \n",
        "classifierTree = classifierTree.fit(X_train, Y_train)"
      ],
      "metadata": {
        "id": "eDU-GaO_wqc1"
      },
      "execution_count": 11,
      "outputs": []
    },
    {
      "cell_type": "markdown",
      "source": [
        "*Evaluación del algoritmo*"
      ],
      "metadata": {
        "id": "hbmCQyzSzEWA"
      }
    },
    {
      "cell_type": "code",
      "source": [
        "Y_predA = classifierTree.predict(X_test)\n",
        "\n",
        "print(confusion_matrix(Y_test, Y_predA))\n",
        "print(classification_report(Y_test, Y_predA))"
      ],
      "metadata": {
        "colab": {
          "base_uri": "https://localhost:8080/"
        },
        "id": "XvD7MFu_xIQ_",
        "outputId": "f96ebb6f-b0c6-4796-d930-329f4db9d774"
      },
      "execution_count": 12,
      "outputs": [
        {
          "output_type": "stream",
          "name": "stdout",
          "text": [
            "[[767   0]\n",
            " [  0 858]]\n",
            "              precision    recall  f1-score   support\n",
            "\n",
            "           0       1.00      1.00      1.00       767\n",
            "           1       1.00      1.00      1.00       858\n",
            "\n",
            "    accuracy                           1.00      1625\n",
            "   macro avg       1.00      1.00      1.00      1625\n",
            "weighted avg       1.00      1.00      1.00      1625\n",
            "\n"
          ]
        }
      ]
    },
    {
      "cell_type": "markdown",
      "source": [
        "**KNeighbors**"
      ],
      "metadata": {
        "id": "Jpj_GmEXmChv"
      }
    },
    {
      "cell_type": "markdown",
      "source": [
        "*Entrenamiento*"
      ],
      "metadata": {
        "id": "pQs0w-J1Abg5"
      }
    },
    {
      "cell_type": "code",
      "source": [
        "classifierKN = neighbors.KNeighborsClassifier() \n",
        "classifierKN = classifierKN.fit(X_train, Y_train)"
      ],
      "metadata": {
        "id": "usI92G10AeZU"
      },
      "execution_count": 13,
      "outputs": []
    },
    {
      "cell_type": "markdown",
      "source": [
        "*Evaluación del algoritmo*"
      ],
      "metadata": {
        "id": "gajXw247ApOD"
      }
    },
    {
      "cell_type": "code",
      "source": [
        "Y_predK = classifierKN.predict(X_test)\n",
        "\n",
        "print(confusion_matrix(Y_test, Y_predK))\n",
        "print(classification_report(Y_test, Y_predK))"
      ],
      "metadata": {
        "colab": {
          "base_uri": "https://localhost:8080/"
        },
        "id": "9rsvE_NYAsbc",
        "outputId": "ce5ba6cc-de57-4e85-cb3b-92d50a8a739c"
      },
      "execution_count": 14,
      "outputs": [
        {
          "output_type": "stream",
          "name": "stdout",
          "text": [
            "[[767   0]\n",
            " [  0 858]]\n",
            "              precision    recall  f1-score   support\n",
            "\n",
            "           0       1.00      1.00      1.00       767\n",
            "           1       1.00      1.00      1.00       858\n",
            "\n",
            "    accuracy                           1.00      1625\n",
            "   macro avg       1.00      1.00      1.00      1625\n",
            "weighted avg       1.00      1.00      1.00      1625\n",
            "\n"
          ]
        }
      ]
    },
    {
      "cell_type": "markdown",
      "source": [
        "# Evaluación de Support Vector Machine"
      ],
      "metadata": {
        "id": "c43-HU-inTYY"
      }
    },
    {
      "cell_type": "markdown",
      "source": [
        "**Matriz de confusión**"
      ],
      "metadata": {
        "id": "Uay3e9BenZZu"
      }
    },
    {
      "cell_type": "code",
      "source": [
        "cmS = metrics.confusion_matrix (Y_test, Y_predS, labels=Y.value_counts().keys())\n",
        "pS = metrics.ConfusionMatrixDisplay(cmS,display_labels=Y.value_counts().keys()) \n",
        "\n",
        "pS.plot(xticks_rotation='vertical', cmap='plasma')\n",
        "\n",
        "plt.show()"
      ],
      "metadata": {
        "colab": {
          "base_uri": "https://localhost:8080/",
          "height": 276
        },
        "id": "GuRkpoOpnewn",
        "outputId": "f6d4bf7f-5146-4436-9597-ad69b9913f07"
      },
      "execution_count": null,
      "outputs": [
        {
          "output_type": "display_data",
          "data": {
            "text/plain": [
              "<Figure size 432x288 with 2 Axes>"
            ],
            "image/png": "[encoded data removed]"
          },
          "metadata": {
            "needs_background": "light"
          }
        }
      ]
    },
    {
      "cell_type": "markdown",
      "source": [
        "**Sensibilidad y especificidad**"
      ],
      "metadata": {
        "id": "18fVL8hHqz8j"
      }
    },
    {
      "cell_type": "code",
      "source": [
        "sensS = cmS[0][0]/(cmS[0][0]+cmS[0][1])\n",
        "print('La sensibilidad de SVM es: ', sensS)\n",
        "\n",
        "espS = cmS[1][1]/(cmS[1][1]+cmS[1][0])\n",
        "print('La especificidad de SVM es: ', espS)"
      ],
      "metadata": {
        "colab": {
          "base_uri": "https://localhost:8080/"
        },
        "id": "cyfp0nGwq2kZ",
        "outputId": "28b850d5-a281-49db-bc49-aa3c5482f9d2"
      },
      "execution_count": null,
      "outputs": [
        {
          "output_type": "stream",
          "name": "stdout",
          "text": [
            "La sensibilidad de SVM es:  1.0\n",
            "La especificidad de SVM es:  1.0\n"
          ]
        }
      ]
    },
    {
      "cell_type": "markdown",
      "source": [
        "**Curva ROC y AUC**"
      ],
      "metadata": {
        "id": "G7AINkcCwXWx"
      }
    },
    {
      "cell_type": "code",
      "source": [
        "Y_pred_probS = classifierSVC.predict_proba(X_test)[:,1]\n",
        "AUCS = roc_auc_score(Y_test, Y_pred_probS)\n",
        "print('La AUC de Support Vector Machine es: ', AUCS)"
      ],
      "metadata": {
        "colab": {
          "base_uri": "https://localhost:8080/"
        },
        "id": "BqJcTypOzTm-",
        "outputId": "222d1ebc-2582-441d-b04a-3611d4d3ad09"
      },
      "execution_count": null,
      "outputs": [
        {
          "output_type": "stream",
          "name": "stdout",
          "text": [
            "La AUC de Support Vector Machine es:  1.0\n"
          ]
        }
      ]
    },
    {
      "cell_type": "code",
      "source": [
        "fpr, tpr, _ = roc_curve(Y_test, Y_pred_probS)\n",
        "plt.plot([0, 1], [0, 1], 'k--',label='Sin entrenar')\n",
        "plt.plot(fpr, tpr,'-',label='Support Vector Machine, AUC = ' + str(AUCS))\n",
        "plt.xlabel('Tasa de Falsos Positivos')\n",
        "plt.ylabel('Tasa de Verdaderos Positivos')\n",
        "plt.legend(loc=4)\n",
        "plt.show()"
      ],
      "metadata": {
        "id": "l0trHnK4zpgk",
        "colab": {
          "base_uri": "https://localhost:8080/",
          "height": 279
        },
        "outputId": "5433e58d-0768-4c5a-eb9d-b6a4ce7d6957"
      },
      "execution_count": null,
      "outputs": [
        {
          "output_type": "display_data",
          "data": {
            "text/plain": [
              "<Figure size 432x288 with 1 Axes>"
            ],
            "image/png": "[encoded data removed]"
          },
          "metadata": {
            "needs_background": "light"
          }
        }
      ]
    },
    {
      "cell_type": "markdown",
      "source": [
        "# Evaluación de Árbol de decisión"
      ],
      "metadata": {
        "id": "cFvDphHG3dfi"
      }
    },
    {
      "cell_type": "markdown",
      "source": [
        "**Matriz de confusión**"
      ],
      "metadata": {
        "id": "zlujpQCW3dgl"
      }
    },
    {
      "cell_type": "code",
      "source": [
        "cmA = metrics.confusion_matrix (Y_test, Y_predA, labels=Y.value_counts().keys())\n",
        "pA = metrics.ConfusionMatrixDisplay(cmA,display_labels=Y.value_counts().keys()) \n",
        "\n",
        "pA.plot(xticks_rotation='vertical', cmap='plasma')\n",
        "\n",
        "plt.show()"
      ],
      "metadata": {
        "colab": {
          "base_uri": "https://localhost:8080/",
          "height": 276
        },
        "outputId": "3119f17f-b429-4033-8163-36ee7e750395",
        "id": "RfsQFk1T3dgn"
      },
      "execution_count": null,
      "outputs": [
        {
          "output_type": "display_data",
          "data": {
            "text/plain": [
              "<Figure size 432x288 with 2 Axes>"
            ],
            "image/png": "[encoded data removed]"
          },
          "metadata": {
            "needs_background": "light"
          }
        }
      ]
    },
    {
      "cell_type": "markdown",
      "source": [
        "**Sensibilidad y especificidad**"
      ],
      "metadata": {
        "id": "55oF7Jgb3dgt"
      }
    },
    {
      "cell_type": "code",
      "source": [
        "sensA = cmA[0][0]/(cmA[0][0]+cmA[0][1])\n",
        "print('La sensibilidad del árbol de decisión es: ', sensA)\n",
        "\n",
        "espA = cmA[1][1]/(cmA[1][1]+cmA[1][0])\n",
        "print('La especificidad del árbol de decisión es: ', espA)"
      ],
      "metadata": {
        "colab": {
          "base_uri": "https://localhost:8080/"
        },
        "outputId": "958017b4-5a74-4dd7-e215-48425aaad201",
        "id": "McWZHGTn3dgv"
      },
      "execution_count": null,
      "outputs": [
        {
          "output_type": "stream",
          "name": "stdout",
          "text": [
            "La sensibilidad del árbol de decisión es:  1.0\n",
            "La especificidad del árbol de decisión es:  1.0\n"
          ]
        }
      ]
    },
    {
      "cell_type": "markdown",
      "source": [
        "**Curva ROC y AUC**"
      ],
      "metadata": {
        "id": "dRpNBkQk3dgy"
      }
    },
    {
      "cell_type": "code",
      "source": [
        "Y_pred_probA = classifierTree.predict_proba(X_test)[:,1]\n",
        "AUCA = roc_auc_score(Y_test, Y_pred_probA)\n",
        "print('La AUC del árbol de decisión es: ', AUCA)"
      ],
      "metadata": {
        "colab": {
          "base_uri": "https://localhost:8080/"
        },
        "outputId": "5f98bac5-5416-4f99-fa9f-a74729877016",
        "id": "p7gjrIa73dg9"
      },
      "execution_count": null,
      "outputs": [
        {
          "output_type": "stream",
          "name": "stdout",
          "text": [
            "La AUC del árbol de decisión es:  1.0\n"
          ]
        }
      ]
    },
    {
      "cell_type": "code",
      "source": [
        "fpr, tpr, _ = roc_curve(Y_test, Y_pred_probA)\n",
        "plt.plot([0, 1], [0, 1], 'k--',label='Sin entrenar')\n",
        "plt.plot(fpr, tpr,'-',label='Árbol de decisión, AUC = ' + str(AUCA))\n",
        "plt.xlabel('Tasa de Falsos Positivos')\n",
        "plt.ylabel('Tasa de Verdaderos Positivos')\n",
        "plt.legend(loc=4)\n",
        "plt.show()"
      ],
      "metadata": {
        "colab": {
          "base_uri": "https://localhost:8080/",
          "height": 279
        },
        "outputId": "ce58e852-4b05-47fb-e444-7d79474ecff2",
        "id": "WWnKSU2p3dhA"
      },
      "execution_count": null,
      "outputs": [
        {
          "output_type": "display_data",
          "data": {
            "text/plain": [
              "<Figure size 432x288 with 1 Axes>"
            ],
            "image/png": "[encoded data removed]"
          },
          "metadata": {
            "needs_background": "light"
          }
        }
      ]
    },
    {
      "cell_type": "markdown",
      "source": [
        "#Conclusiones"
      ],
      "metadata": {
        "id": "65cemIuWC_VJ"
      }
    },
    {
      "cell_type": "markdown",
      "source": [
        "En esta actividad se desarrollan nuevos modelos de evaluación para los modelos de clasificación realizados con anterioridad.\n",
        "\n",
        "Como ya se había visto, la precisión de los tres algoritmos de clasificación utilizados: SVM, árboles y KN sea tan alta, prácticamente es de 1. Algunas variables predictoras podrían estar sobrando y se podría realizar una selección de variables.\n",
        "\n",
        "La perfección de los modelos se refleja en una matrices de confusión con ceros para las esquinas de falsos positivos y falsos negativos, sensibilidad, especificidad y AUC de 1, además de curva ROC completamente a la izquierda."
      ],
      "metadata": {
        "id": "WQolxe7wDCGl"
      }
    }
  ]
}
