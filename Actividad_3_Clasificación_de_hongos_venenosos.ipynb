{
  "nbformat": 4,
  "nbformat_minor": 0,
  "metadata": {
    "colab": {
      "provenance": []
    },
    "kernelspec": {
      "name": "python3",
      "display_name": "Python 3"
    },
    "language_info": {
      "name": "python"
    }
  },
  "cells": [
    {
      "cell_type": "markdown",
      "source": [
        "#**Clasificación de hongos venenosos**"
      ],
      "metadata": {
        "id": "TUkYpbBHjq5O"
      }
    },
    {
      "cell_type": "markdown",
      "source": [
        "Sofía Ingigerth Cañas Urbina A01173828"
      ],
      "metadata": {
        "id": "vIpbACM2jy9R"
      }
    },
    {
      "cell_type": "markdown",
      "source": [
        "#Librerías"
      ],
      "metadata": {
        "id": "8cW29FbokRaC"
      }
    },
    {
      "cell_type": "markdown",
      "source": [
        "Importamos la librería de pandas para poder manipular y analizar el data frame con la información. De la de sklearn obtenemos paquetes de algoritmos de entrenamiento y evaluación de estos algoritmos"
      ],
      "metadata": {
        "id": "5HOy7-qQ2-XM"
      }
    },
    {
      "cell_type": "code",
      "source": [
        "import pandas as pd\n",
        "\n",
        "from sklearn.model_selection import train_test_split\n",
        "from sklearn.svm import SVC\n",
        "from sklearn.pipeline import make_pipeline\n",
        "from sklearn.preprocessing import StandardScaler\n",
        "\n",
        "from sklearn.metrics import classification_report, confusion_matrix\n",
        "\n",
        "from sklearn import tree \n",
        "from sklearn import neighbors \n",
        "from sklearn.neighbors import KNeighborsClassifier\n",
        "from sklearn import preprocessing"
      ],
      "metadata": {
        "id": "K7NhvdhkkNhk"
      },
      "execution_count": null,
      "outputs": []
    },
    {
      "cell_type": "markdown",
      "source": [
        "#Importación y exploración de datos"
      ],
      "metadata": {
        "id": "YHhgUVDWkVH7"
      }
    },
    {
      "cell_type": "markdown",
      "source": [
        "Importamos los datos y los guardamos en un data frame, imprimimos sus dimensiones y las primeras observaciones para familiarizarnos"
      ],
      "metadata": {
        "id": "GdeJxzjc33qn"
      }
    },
    {
      "cell_type": "code",
      "execution_count": null,
      "metadata": {
        "colab": {
          "base_uri": "https://localhost:8080/",
          "height": 369
        },
        "id": "Ua5Wb2RUSeBy",
        "outputId": "6072fdfd-228e-4991-ba9e-79f8b059da7c"
      },
      "outputs": [
        {
          "output_type": "stream",
          "name": "stdout",
          "text": [
            "(8124, 23)\n"
          ]
        },
        {
          "output_type": "execute_result",
          "data": {
            "text/plain": [
              "  class cap-shape cap-surface cap-color bruises odor gill-attachment  \\\n",
              "0     p         x           s         n       t    p               f   \n",
              "1     e         x           s         y       t    a               f   \n",
              "2     e         b           s         w       t    l               f   \n",
              "3     p         x           y         w       t    p               f   \n",
              "4     e         x           s         g       f    n               f   \n",
              "\n",
              "  gill-spacing gill-size gill-color  ... stalk-surface-below-ring  \\\n",
              "0            c         n          k  ...                        s   \n",
              "1            c         b          k  ...                        s   \n",
              "2            c         b          n  ...                        s   \n",
              "3            c         n          n  ...                        s   \n",
              "4            w         b          k  ...                        s   \n",
              "\n",
              "  stalk-color-above-ring stalk-color-below-ring veil-type veil-color  \\\n",
              "0                      w                      w         p          w   \n",
              "1                      w                      w         p          w   \n",
              "2                      w                      w         p          w   \n",
              "3                      w                      w         p          w   \n",
              "4                      w                      w         p          w   \n",
              "\n",
              "  ring-number ring-type spore-print-color population habitat  \n",
              "0           o         p                 k          s       u  \n",
              "1           o         p                 n          n       g  \n",
              "2           o         p                 n          n       m  \n",
              "3           o         p                 k          s       u  \n",
              "4           o         e                 n          a       g  \n",
              "\n",
              "[5 rows x 23 columns]"
            ],
            "text/html": [
              "\n",
              "  <div id=\"df-baa21181-26ce-45ad-8095-e512a7060aea\">\n",
              "    <div class=\"colab-df-container\">\n",
              "      <div>\n",
              "<style scoped>\n",
              "    .dataframe tbody tr th:only-of-type {\n",
              "        vertical-align: middle;\n",
              "    }\n",
              "\n",
              "    .dataframe tbody tr th {\n",
              "        vertical-align: top;\n",
              "    }\n",
              "\n",
              "    .dataframe thead th {\n",
              "        text-align: right;\n",
              "    }\n",
              "</style>\n",
              "<table border=\"1\" class=\"dataframe\">\n",
              "  <thead>\n",
              "    <tr style=\"text-align: right;\">\n",
              "      <th></th>\n",
              "      <th>class</th>\n",
              "      <th>cap-shape</th>\n",
              "      <th>cap-surface</th>\n",
              "      <th>cap-color</th>\n",
              "      <th>bruises</th>\n",
              "      <th>odor</th>\n",
              "      <th>gill-attachment</th>\n",
              "      <th>gill-spacing</th>\n",
              "      <th>gill-size</th>\n",
              "      <th>gill-color</th>\n",
              "      <th>...</th>\n",
              "      <th>stalk-surface-below-ring</th>\n",
              "      <th>stalk-color-above-ring</th>\n",
              "      <th>stalk-color-below-ring</th>\n",
              "      <th>veil-type</th>\n",
              "      <th>veil-color</th>\n",
              "      <th>ring-number</th>\n",
              "      <th>ring-type</th>\n",
              "      <th>spore-print-color</th>\n",
              "      <th>population</th>\n",
              "      <th>habitat</th>\n",
              "    </tr>\n",
              "  </thead>\n",
              "  <tbody>\n",
              "    <tr>\n",
              "      <th>0</th>\n",
              "      <td>p</td>\n",
              "      <td>x</td>\n",
              "      <td>s</td>\n",
              "      <td>n</td>\n",
              "      <td>t</td>\n",
              "      <td>p</td>\n",
              "      <td>f</td>\n",
              "      <td>c</td>\n",
              "      <td>n</td>\n",
              "      <td>k</td>\n",
              "      <td>...</td>\n",
              "      <td>s</td>\n",
              "      <td>w</td>\n",
              "      <td>w</td>\n",
              "      <td>p</td>\n",
              "      <td>w</td>\n",
              "      <td>o</td>\n",
              "      <td>p</td>\n",
              "      <td>k</td>\n",
              "      <td>s</td>\n",
              "      <td>u</td>\n",
              "    </tr>\n",
              "    <tr>\n",
              "      <th>1</th>\n",
              "      <td>e</td>\n",
              "      <td>x</td>\n",
              "      <td>s</td>\n",
              "      <td>y</td>\n",
              "      <td>t</td>\n",
              "      <td>a</td>\n",
              "      <td>f</td>\n",
              "      <td>c</td>\n",
              "      <td>b</td>\n",
              "      <td>k</td>\n",
              "      <td>...</td>\n",
              "      <td>s</td>\n",
              "      <td>w</td>\n",
              "      <td>w</td>\n",
              "      <td>p</td>\n",
              "      <td>w</td>\n",
              "      <td>o</td>\n",
              "      <td>p</td>\n",
              "      <td>n</td>\n",
              "      <td>n</td>\n",
              "      <td>g</td>\n",
              "    </tr>\n",
              "    <tr>\n",
              "      <th>2</th>\n",
              "      <td>e</td>\n",
              "      <td>b</td>\n",
              "      <td>s</td>\n",
              "      <td>w</td>\n",
              "      <td>t</td>\n",
              "      <td>l</td>\n",
              "      <td>f</td>\n",
              "      <td>c</td>\n",
              "      <td>b</td>\n",
              "      <td>n</td>\n",
              "      <td>...</td>\n",
              "      <td>s</td>\n",
              "      <td>w</td>\n",
              "      <td>w</td>\n",
              "      <td>p</td>\n",
              "      <td>w</td>\n",
              "      <td>o</td>\n",
              "      <td>p</td>\n",
              "      <td>n</td>\n",
              "      <td>n</td>\n",
              "      <td>m</td>\n",
              "    </tr>\n",
              "    <tr>\n",
              "      <th>3</th>\n",
              "      <td>p</td>\n",
              "      <td>x</td>\n",
              "      <td>y</td>\n",
              "      <td>w</td>\n",
              "      <td>t</td>\n",
              "      <td>p</td>\n",
              "      <td>f</td>\n",
              "      <td>c</td>\n",
              "      <td>n</td>\n",
              "      <td>n</td>\n",
              "      <td>...</td>\n",
              "      <td>s</td>\n",
              "      <td>w</td>\n",
              "      <td>w</td>\n",
              "      <td>p</td>\n",
              "      <td>w</td>\n",
              "      <td>o</td>\n",
              "      <td>p</td>\n",
              "      <td>k</td>\n",
              "      <td>s</td>\n",
              "      <td>u</td>\n",
              "    </tr>\n",
              "    <tr>\n",
              "      <th>4</th>\n",
              "      <td>e</td>\n",
              "      <td>x</td>\n",
              "      <td>s</td>\n",
              "      <td>g</td>\n",
              "      <td>f</td>\n",
              "      <td>n</td>\n",
              "      <td>f</td>\n",
              "      <td>w</td>\n",
              "      <td>b</td>\n",
              "      <td>k</td>\n",
              "      <td>...</td>\n",
              "      <td>s</td>\n",
              "      <td>w</td>\n",
              "      <td>w</td>\n",
              "      <td>p</td>\n",
              "      <td>w</td>\n",
              "      <td>o</td>\n",
              "      <td>e</td>\n",
              "      <td>n</td>\n",
              "      <td>a</td>\n",
              "      <td>g</td>\n",
              "    </tr>\n",
              "  </tbody>\n",
              "</table>\n",
              "<p>5 rows × 23 columns</p>\n",
              "</div>\n",
              "      <button class=\"colab-df-convert\" onclick=\"convertToInteractive('df-baa21181-26ce-45ad-8095-e512a7060aea')\"\n",
              "              title=\"Convert this dataframe to an interactive table.\"\n",
              "              style=\"display:none;\">\n",
              "        \n",
              "  <svg xmlns=\"http://www.w3.org/2000/svg\" height=\"24px\"viewBox=\"0 0 24 24\"\n",
              "       width=\"24px\">\n",
              "    <path d=\"M0 0h24v24H0V0z\" fill=\"none\"/>\n",
              "    <path d=\"M18.56 5.44l.94 2.06.94-2.06 2.06-.94-2.06-.94-.94-2.06-.94 2.06-2.06.94zm-11 1L8.5 8.5l.94-2.06 2.06-.94-2.06-.94L8.5 2.5l-.94 2.06-2.06.94zm10 10l.94 2.06.94-2.06 2.06-.94-2.06-.94-.94-2.06-.94 2.06-2.06.94z\"/><path d=\"M17.41 7.96l-1.37-1.37c-.4-.4-.92-.59-1.43-.59-.52 0-1.04.2-1.43.59L10.3 9.45l-7.72 7.72c-.78.78-.78 2.05 0 2.83L4 21.41c.39.39.9.59 1.41.59.51 0 1.02-.2 1.41-.59l7.78-7.78 2.81-2.81c.8-.78.8-2.07 0-2.86zM5.41 20L4 18.59l7.72-7.72 1.47 1.35L5.41 20z\"/>\n",
              "  </svg>\n",
              "      </button>\n",
              "      \n",
              "  <style>\n",
              "    .colab-df-container {\n",
              "      display:flex;\n",
              "      flex-wrap:wrap;\n",
              "      gap: 12px;\n",
              "    }\n",
              "\n",
              "    .colab-df-convert {\n",
              "      background-color: #E8F0FE;\n",
              "      border: none;\n",
              "      border-radius: 50%;\n",
              "      cursor: pointer;\n",
              "      display: none;\n",
              "      fill: #1967D2;\n",
              "      height: 32px;\n",
              "      padding: 0 0 0 0;\n",
              "      width: 32px;\n",
              "    }\n",
              "\n",
              "    .colab-df-convert:hover {\n",
              "      background-color: #E2EBFA;\n",
              "      box-shadow: 0px 1px 2px rgba(60, 64, 67, 0.3), 0px 1px 3px 1px rgba(60, 64, 67, 0.15);\n",
              "      fill: #174EA6;\n",
              "    }\n",
              "\n",
              "    [theme=dark] .colab-df-convert {\n",
              "      background-color: #3B4455;\n",
              "      fill: #D2E3FC;\n",
              "    }\n",
              "\n",
              "    [theme=dark] .colab-df-convert:hover {\n",
              "      background-color: #434B5C;\n",
              "      box-shadow: 0px 1px 3px 1px rgba(0, 0, 0, 0.15);\n",
              "      filter: drop-shadow(0px 1px 2px rgba(0, 0, 0, 0.3));\n",
              "      fill: #FFFFFF;\n",
              "    }\n",
              "  </style>\n",
              "\n",
              "      <script>\n",
              "        const buttonEl =\n",
              "          document.querySelector('#df-baa21181-26ce-45ad-8095-e512a7060aea button.colab-df-convert');\n",
              "        buttonEl.style.display =\n",
              "          google.colab.kernel.accessAllowed ? 'block' : 'none';\n",
              "\n",
              "        async function convertToInteractive(key) {\n",
              "          const element = document.querySelector('#df-baa21181-26ce-45ad-8095-e512a7060aea');\n",
              "          const dataTable =\n",
              "            await google.colab.kernel.invokeFunction('convertToInteractive',\n",
              "                                                     [key], {});\n",
              "          if (!dataTable) return;\n",
              "\n",
              "          const docLinkHtml = 'Like what you see? Visit the ' +\n",
              "            '<a target=\"_blank\" href=https://colab.research.google.com/notebooks/data_table.ipynb>data table notebook</a>'\n",
              "            + ' to learn more about interactive tables.';\n",
              "          element.innerHTML = '';\n",
              "          dataTable['output_type'] = 'display_data';\n",
              "          await google.colab.output.renderOutput(dataTable, element);\n",
              "          const docLink = document.createElement('div');\n",
              "          docLink.innerHTML = docLinkHtml;\n",
              "          element.appendChild(docLink);\n",
              "        }\n",
              "      </script>\n",
              "    </div>\n",
              "  </div>\n",
              "  "
            ]
          },
          "metadata": {},
          "execution_count": 72
        }
      ],
      "source": [
        "mushroom = pd.read_csv('mushrooms.csv')\n",
        "\n",
        "print(mushroom.shape)\n",
        "mushroom.head()"
      ]
    },
    {
      "cell_type": "markdown",
      "source": [
        "Vemos que las variables son mayoritariamente de tipo categórico, no son numéricas"
      ],
      "metadata": {
        "id": "D12_cIzB5BgW"
      }
    },
    {
      "cell_type": "code",
      "source": [
        "mushroom.dtypes"
      ],
      "metadata": {
        "colab": {
          "base_uri": "https://localhost:8080/"
        },
        "id": "vJiZniHi44nQ",
        "outputId": "3dbb0ad7-9680-473b-e8f1-f8f5833fb696"
      },
      "execution_count": null,
      "outputs": [
        {
          "output_type": "execute_result",
          "data": {
            "text/plain": [
              "class                       object\n",
              "cap-shape                   object\n",
              "cap-surface                 object\n",
              "cap-color                   object\n",
              "bruises                     object\n",
              "odor                        object\n",
              "gill-attachment             object\n",
              "gill-spacing                object\n",
              "gill-size                   object\n",
              "gill-color                  object\n",
              "stalk-shape                 object\n",
              "stalk-root                  object\n",
              "stalk-surface-above-ring    object\n",
              "stalk-surface-below-ring    object\n",
              "stalk-color-above-ring      object\n",
              "stalk-color-below-ring      object\n",
              "veil-type                   object\n",
              "veil-color                  object\n",
              "ring-number                 object\n",
              "ring-type                   object\n",
              "spore-print-color           object\n",
              "population                  object\n",
              "habitat                     object\n",
              "dtype: object"
            ]
          },
          "metadata": {},
          "execution_count": 73
        }
      ]
    },
    {
      "cell_type": "markdown",
      "source": [
        "#Preprocesamiento de los datos"
      ],
      "metadata": {
        "id": "C2ucJNSHkejw"
      }
    },
    {
      "cell_type": "markdown",
      "source": [
        "Dividimos en atributos o características y etiquetas o variable a predecir"
      ],
      "metadata": {
        "id": "JOHWaWVf4Zm5"
      }
    },
    {
      "cell_type": "code",
      "source": [
        "X = mushroom.copy()\n",
        "X = mushroom.drop('class', axis = 1)\n",
        "Y = mushroom['class']"
      ],
      "metadata": {
        "id": "veS8Ny45kjYI"
      },
      "execution_count": null,
      "outputs": []
    },
    {
      "cell_type": "markdown",
      "source": [
        "Las características son de tipo categórico, entonces una alternativa es usar \"dummy variables\" para poder usar el algoritmo de clasificación. No es necesario hacer esto para las etiquetas y de hecho nos brinda una ventaja para obtener predicciones en la notación orignal"
      ],
      "metadata": {
        "id": "0lx4drZ64okb"
      }
    },
    {
      "cell_type": "code",
      "source": [
        "X = pd.get_dummies(X) "
      ],
      "metadata": {
        "id": "P79uBOTypexe"
      },
      "execution_count": null,
      "outputs": []
    },
    {
      "cell_type": "markdown",
      "source": [
        "Dividimos los datos en training y testing set, en proporción 80:20"
      ],
      "metadata": {
        "id": "mmDYU9zh6pFh"
      }
    },
    {
      "cell_type": "code",
      "source": [
        "X_train, X_test, Y_train, Y_test = train_test_split(X, Y, test_size = 0.20)"
      ],
      "metadata": {
        "id": "fsT2PNVWrQD5"
      },
      "execution_count": null,
      "outputs": []
    },
    {
      "cell_type": "markdown",
      "source": [
        "#Support Vector Machine"
      ],
      "metadata": {
        "id": "Ysq6EsOUrsHM"
      }
    },
    {
      "cell_type": "markdown",
      "source": [
        "**Entrenamiento**\n",
        "\n",
        "Se probaron diferentes kernels para el SVM (poly, rbf, sigmoid) y en general mostraban muy buenos resultados con una alta precisión. También se experimento estandarizando y no estandarizando, al final sólo se muestra una alternativa, considerando alguna de las mejores"
      ],
      "metadata": {
        "id": "mMnAabNGsHBB"
      }
    },
    {
      "cell_type": "code",
      "source": [
        "classifierSVC = make_pipeline(StandardScaler(), SVC(kernel = 'rbf')).fit(X_train, Y_train)"
      ],
      "metadata": {
        "id": "KzIFAjNNsJ-t"
      },
      "execution_count": null,
      "outputs": []
    },
    {
      "cell_type": "markdown",
      "source": [
        "**Evaluación del algoritmo**"
      ],
      "metadata": {
        "id": "w3Pn185rsKVP"
      }
    },
    {
      "cell_type": "code",
      "source": [
        "Y_pred = classifierSVC.predict(X_test)\n",
        "\n",
        "print(confusion_matrix(Y_test, Y_pred))\n",
        "print(classification_report(Y_test, Y_pred))"
      ],
      "metadata": {
        "colab": {
          "base_uri": "https://localhost:8080/"
        },
        "id": "Q3O1A-3SvGjT",
        "outputId": "a593f216-767b-453e-cf43-7d2988c68032"
      },
      "execution_count": null,
      "outputs": [
        {
          "output_type": "stream",
          "name": "stdout",
          "text": [
            "[[833   0]\n",
            " [  1 791]]\n",
            "              precision    recall  f1-score   support\n",
            "\n",
            "           e       1.00      1.00      1.00       833\n",
            "           p       1.00      1.00      1.00       792\n",
            "\n",
            "    accuracy                           1.00      1625\n",
            "   macro avg       1.00      1.00      1.00      1625\n",
            "weighted avg       1.00      1.00      1.00      1625\n",
            "\n"
          ]
        }
      ]
    },
    {
      "cell_type": "markdown",
      "source": [
        "#Árbol de decisión"
      ],
      "metadata": {
        "id": "111ZAk9Iy7sD"
      }
    },
    {
      "cell_type": "markdown",
      "source": [
        "**Entrenamiento**"
      ],
      "metadata": {
        "id": "DZ4RHS2-zBmo"
      }
    },
    {
      "cell_type": "code",
      "source": [
        "classifierTree = tree.DecisionTreeClassifier() \n",
        "classifierTree = classifierTree.fit(X_train, Y_train)"
      ],
      "metadata": {
        "id": "eDU-GaO_wqc1"
      },
      "execution_count": null,
      "outputs": []
    },
    {
      "cell_type": "markdown",
      "source": [
        "**Evaluación del algoritmo**"
      ],
      "metadata": {
        "id": "hbmCQyzSzEWA"
      }
    },
    {
      "cell_type": "code",
      "source": [
        "Y_pred = classifierTree.predict(X_test)\n",
        "\n",
        "print(confusion_matrix(Y_test, Y_pred))\n",
        "print(classification_report(Y_test, Y_pred))"
      ],
      "metadata": {
        "colab": {
          "base_uri": "https://localhost:8080/"
        },
        "id": "XvD7MFu_xIQ_",
        "outputId": "edca9012-fc61-4a65-93a1-616aea3e24f2"
      },
      "execution_count": null,
      "outputs": [
        {
          "output_type": "stream",
          "name": "stdout",
          "text": [
            "[[833   0]\n",
            " [  0 792]]\n",
            "              precision    recall  f1-score   support\n",
            "\n",
            "           e       1.00      1.00      1.00       833\n",
            "           p       1.00      1.00      1.00       792\n",
            "\n",
            "    accuracy                           1.00      1625\n",
            "   macro avg       1.00      1.00      1.00      1625\n",
            "weighted avg       1.00      1.00      1.00      1625\n",
            "\n"
          ]
        }
      ]
    },
    {
      "cell_type": "markdown",
      "source": [
        "#KNeighbors"
      ],
      "metadata": {
        "id": "lC8SrfBPASS4"
      }
    },
    {
      "cell_type": "markdown",
      "source": [
        "**Entrenamiento**"
      ],
      "metadata": {
        "id": "pQs0w-J1Abg5"
      }
    },
    {
      "cell_type": "code",
      "source": [
        "classifierKN = neighbors.KNeighborsClassifier() \n",
        "classifierKN = classifierKN.fit(X_train, Y_train)"
      ],
      "metadata": {
        "id": "usI92G10AeZU"
      },
      "execution_count": null,
      "outputs": []
    },
    {
      "cell_type": "markdown",
      "source": [
        "**Evaluación del algoritmo**"
      ],
      "metadata": {
        "id": "gajXw247ApOD"
      }
    },
    {
      "cell_type": "code",
      "source": [
        "Y_pred = classifierKN.predict(X_test)\n",
        "\n",
        "print(confusion_matrix(Y_test, Y_pred))\n",
        "print(classification_report(Y_test, Y_pred))"
      ],
      "metadata": {
        "colab": {
          "base_uri": "https://localhost:8080/"
        },
        "id": "9rsvE_NYAsbc",
        "outputId": "8bd99429-66ff-473b-ac60-e4f614c9cd1c"
      },
      "execution_count": null,
      "outputs": [
        {
          "output_type": "stream",
          "name": "stdout",
          "text": [
            "[[833   0]\n",
            " [  0 792]]\n",
            "              precision    recall  f1-score   support\n",
            "\n",
            "           e       1.00      1.00      1.00       833\n",
            "           p       1.00      1.00      1.00       792\n",
            "\n",
            "    accuracy                           1.00      1625\n",
            "   macro avg       1.00      1.00      1.00      1625\n",
            "weighted avg       1.00      1.00      1.00      1625\n",
            "\n"
          ]
        }
      ]
    },
    {
      "cell_type": "markdown",
      "source": [
        "#Predicciones"
      ],
      "metadata": {
        "id": "oaM7YTn5zJ9y"
      }
    },
    {
      "cell_type": "markdown",
      "source": [
        "Dadas las características de los hongos podemos hacer predicciones usando classifier.predict(características). Estas pueden ser sobre el testing set, aunque el principal objetivo de esto es evaluar el algoritmo como se ha hecho antes. Ya teniendo una idea de la precisión del clasificador, muy buena en el caso de los clasificadores utilizados en esta actividad, podemos usar uno de ellos teniendo nuestras propias características de hongos si queremos saber si son venenosos (p) o comestibles (e). A continuación se muestra un ejemplo del código que se podría implementar para obtener un dataframe con nuestras propias n caracteríasticas y sus respectivas predicciones. Esto no se lleva a la práctica porque requiere inventar mínimo 22 características y si lo hacemos directamente en \"dummy variables\" serían muchas más, esto se puede evitar agregando un paso de conversión pero de todos modos no es práctico. Ya se ejemplificó la manera en la que se puede predecir dado un modelo en la evalución de los algoritmos."
      ],
      "metadata": {
        "id": "yZX7Nu5wCy38"
      }
    },
    {
      "cell_type": "code",
      "source": [
        "#casosPredMR = [[características 1], [características 2], ..., [características n]]\n",
        "#casosPredMR = pd.DataFrame(casosPredMR, index=range(1,n))\n",
        "#casosPredMR.columns = X.columns\n",
        "#Predicciones = classifierSVC.predict(casosPredMR)\n",
        "#casosPredMR['Predicción'] = Predicciones\n",
        "#casosPredMR"
      ],
      "metadata": {
        "id": "4luczTmWCzPD"
      },
      "execution_count": null,
      "outputs": []
    },
    {
      "cell_type": "markdown",
      "source": [
        "#Conclusiones"
      ],
      "metadata": {
        "id": "65cemIuWC_VJ"
      }
    },
    {
      "cell_type": "markdown",
      "source": [
        "A lo largo de esta actividad pude realizar diferentes etapas para el análisis predictivo vistas a lo largo del bloque, desde la importación de los datos y su análisis inicial, su preprocesamiento y diferentes modelos de clasificación. \n",
        "\n",
        "Me parece desconcertante que la precisión de los tres algoritmos de clasificación utilizados: SVM, árboles y KN sea tan alta, prácticamente de 1. He trabajado antes con estos métodos de clasificación y para datasets tan grandes y variados no suele ser así. Esto puede deberse a alguna característica de los datos pero de todos modos valdría la pena revisarse.\n",
        "\n",
        "Aprendí un método nuevo para tratar con características de tipo categórico, las dummy variables como alternativa a LabelEncoder. Al final los modelos de clasificación obtenidos tienen una aplicación práctica como un sistema que basado en cierto conocimiento previo puede responder nuevas preguntas."
      ],
      "metadata": {
        "id": "WQolxe7wDCGl"
      }
    }
  ]
}